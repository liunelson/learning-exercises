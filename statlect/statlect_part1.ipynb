{
 "cells": [
  {
   "cell_type": "code",
   "execution_count": 0,
   "metadata": {},
   "outputs": [],
   "source": [
    "# Change directory to VSCode workspace root so that relative path loads work correctly. Turn this addition off with the DataScience.changeDirOnImportExport setting\n",
    "# ms-python.python added\n",
    "import os\n",
    "try:\n",
    "\tos.chdir(os.path.join(os.getcwd(), '..'))\n",
    "\tprint(os.getcwd())\n",
    "except:\n",
    "\tpass\n"
   ]
  },
  {
   "cell_type": "markdown",
   "metadata": {},
   "source": [
    " # Notes and exercises from [Statlect](https://www.statlect.com)\n",
    " ---"
   ]
  },
  {
   "cell_type": "markdown",
   "metadata": {},
   "source": [
    " # Part 1 - [Mathematical Tools](https://www.statlect.com/mathematical-tools/)\n",
    "\n",
    " ## Part 1.1 - [Set Theory](https://www.statlect.com/mathematical-tools/set-theory)\n",
    "\n",
    " *Set*: An unordered collection of objects,\n",
    " denoted by a list within curly brackets,\n",
    " e.g. $S = \\{a, b, c, d\\}$.\n",
    "\n",
    " The set $A = \\{1, 2, 3, 4, 5\\}$ is equivalent to\n",
    " the set $B = \\{n \\in \\mathbb{N} \\; | \\; n \\leq 5\\}$.\n",
    "\n",
    " Set membership: Object $a$ belongs to set $A$ if it is one of its *elements*,\n",
    " i.e. $A = \\{a, b, c\\} \\; \\Rightarrow \\; a \\in A$.\n",
    "\n",
    " Set *inclusion*: If every element of set $A$ also belongs to set $B$,\n",
    " then $A$ is included in $B$ and $A$ is a *subset* of $B$, i.e. $A \\subseteq B$.\n",
    "\n",
    " If $A \\subseteq B$ but $B$ includes elements not in $A$,\n",
    " $A$ is *strictly included* in $B$ or $A$ is a *proper subset* of $B$,\n",
    " i.e. $A \\subset B$.\n",
    "\n",
    " Corollary: $A \\subseteq B \\; \\Rightarrow B \\supseteq A$ ($B$ is a *superset* of $A$);\n",
    " similarly, $A \\subset B \\; \\Rightarrow B \\supset A$.\n",
    "\n",
    " Set *union*: Operation that gives the set of all elements belonging to\n",
    " *at least one* of the collected sets,\n",
    " i.e. $A_1 \\cup A_2 = \\bigcup\\limits_{i = 1}^2 A_i = \\{x: x \\in A_1 \\; \\mathrm{or} \\; x \\in A_2\\}$.\n",
    "\n",
    " Set *intersection*: Operation that gives the set of all elements belonging to\n",
    " *all* of the collected sets,\n",
    " i.e. $A_1 \\cap A_2 = \\bigcap\\limits_{i = 1}^2 A_i = \\{x: x \\in A_1 \\; \\mathrm{and} \\; x \\in A_2\\}$.\n",
    "\n",
    " $A$ intersects $B$ if $A \\cap B \\neq \\varnothing$.\n",
    "\n",
    " $A$ and $B$ are *disjoint*\" if $A \\cap B = \\varnothing$.\n",
    "\n",
    " $\\varnothing = \\{ \\}$ is the *empty set*.\n",
    "\n",
    " *Universal set*: the set that includes all objects (and itself),\n",
    " often denoted as $\\Omega$.\n",
    "\n",
    " Set *difference*: Operation that gives the set of all elements of the former\n",
    " but not the latter,\n",
    " i.e. $B \\setminus A = \\{ x \\in B \\; | \\; x \\notin A \\}$.\n",
    "\n",
    " Set *complement*: Operation that gives the set of all non-belonging elements,\n",
    " i.e. $A^\\complement = \\Omega \\setminus A = \\{ x \\in \\Omega \\; | \\; x \\notin A\\}$.\n",
    "\n",
    " De Morgan's Laws:\n",
    " $\\begin{align} (A \\cup B)^\\complement = A^\\complement \\cap B^\\complement \\\\ (A \\cap B)^\\complement = A^\\complement \\cup B^\\complement \\end{align}$"
   ]
  },
  {
   "cell_type": "markdown",
   "metadata": {},
   "source": [
    " ## Part 1.2 - Combinatorics\n",
    "\n",
    " ### Permutations\n",
    "\n",
    " ### Combinations\n",
    "\n",
    " ### $k$-Permutations\n",
    "\n",
    " ### Partitions"
   ]
  },
  {
   "cell_type": "code",
   "execution_count": 1,
   "metadata": {},
   "outputs": [],
   "source": []
  }
 ],
 "metadata": {
  "file_extension": ".py",
  "kernelspec": {
   "display_name": "Python 3",
   "language": "python",
   "name": "python3"
  },
  "language_info": {
   "codemirror_mode": {
    "name": "ipython",
    "version": 3
   },
   "file_extension": ".py",
   "mimetype": "text/x-python",
   "name": "python",
   "nbconvert_exporter": "python",
   "pygments_lexer": "ipython3",
   "version": "3.7.4"
  },
  "mimetype": "text/x-python",
  "name": "python",
  "npconvert_exporter": "python",
  "pygments_lexer": "ipython3",
  "version": 3
 },
 "nbformat": 4,
 "nbformat_minor": 2
}
